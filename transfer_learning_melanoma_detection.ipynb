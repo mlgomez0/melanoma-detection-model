{
  "cells": [
    {
      "cell_type": "markdown",
      "metadata": {
        "id": "mKHbQMA4xi9W"
      },
      "source": [
        "# Step 1: Import Libraries and Set Up Modules\n"
      ]
    },
    {
      "cell_type": "markdown",
      "metadata": {
        "id": "C3kgc4iZxnz3"
      },
      "source": [
        "This step installs necessary packages, imports required libraries, and sets up custom modules. We clone the GitHub repository containing our custom modules, move them to the current directory, and then import them. This ensures we have all the necessary tools and functions for our melanoma detection project"
      ]
    },
    {
      "cell_type": "code",
      "execution_count": 1,
      "metadata": {
        "colab": {
          "base_uri": "https://localhost:8080/"
        },
        "id": "DrKqSCdIwry1",
        "outputId": "394d5c64-2d01-44da-8eb8-57b64a27c09e"
      },
      "outputs": [
        {
          "output_type": "stream",
          "name": "stdout",
          "text": [
            "Requirement already satisfied: torch in /usr/local/lib/python3.10/dist-packages (2.3.1+cu121)\n",
            "Requirement already satisfied: torchvision in /usr/local/lib/python3.10/dist-packages (0.18.1+cu121)\n",
            "Collecting torchinfo\n",
            "  Downloading torchinfo-1.8.0-py3-none-any.whl.metadata (21 kB)\n",
            "Collecting opendatasets\n",
            "  Downloading opendatasets-0.1.22-py3-none-any.whl.metadata (9.2 kB)\n",
            "Requirement already satisfied: filelock in /usr/local/lib/python3.10/dist-packages (from torch) (3.15.4)\n",
            "Requirement already satisfied: typing-extensions>=4.8.0 in /usr/local/lib/python3.10/dist-packages (from torch) (4.12.2)\n",
            "Requirement already satisfied: sympy in /usr/local/lib/python3.10/dist-packages (from torch) (1.13.1)\n",
            "Requirement already satisfied: networkx in /usr/local/lib/python3.10/dist-packages (from torch) (3.3)\n",
            "Requirement already satisfied: jinja2 in /usr/local/lib/python3.10/dist-packages (from torch) (3.1.4)\n",
            "Requirement already satisfied: fsspec in /usr/local/lib/python3.10/dist-packages (from torch) (2024.6.1)\n",
            "Collecting nvidia-cuda-nvrtc-cu12==12.1.105 (from torch)\n",
            "  Using cached nvidia_cuda_nvrtc_cu12-12.1.105-py3-none-manylinux1_x86_64.whl.metadata (1.5 kB)\n",
            "Collecting nvidia-cuda-runtime-cu12==12.1.105 (from torch)\n",
            "  Using cached nvidia_cuda_runtime_cu12-12.1.105-py3-none-manylinux1_x86_64.whl.metadata (1.5 kB)\n",
            "Collecting nvidia-cuda-cupti-cu12==12.1.105 (from torch)\n",
            "  Using cached nvidia_cuda_cupti_cu12-12.1.105-py3-none-manylinux1_x86_64.whl.metadata (1.6 kB)\n",
            "Collecting nvidia-cudnn-cu12==8.9.2.26 (from torch)\n",
            "  Using cached nvidia_cudnn_cu12-8.9.2.26-py3-none-manylinux1_x86_64.whl.metadata (1.6 kB)\n",
            "Collecting nvidia-cublas-cu12==12.1.3.1 (from torch)\n",
            "  Using cached nvidia_cublas_cu12-12.1.3.1-py3-none-manylinux1_x86_64.whl.metadata (1.5 kB)\n",
            "Collecting nvidia-cufft-cu12==11.0.2.54 (from torch)\n",
            "  Using cached nvidia_cufft_cu12-11.0.2.54-py3-none-manylinux1_x86_64.whl.metadata (1.5 kB)\n",
            "Collecting nvidia-curand-cu12==10.3.2.106 (from torch)\n",
            "  Using cached nvidia_curand_cu12-10.3.2.106-py3-none-manylinux1_x86_64.whl.metadata (1.5 kB)\n",
            "Collecting nvidia-cusolver-cu12==11.4.5.107 (from torch)\n",
            "  Using cached nvidia_cusolver_cu12-11.4.5.107-py3-none-manylinux1_x86_64.whl.metadata (1.6 kB)\n",
            "Collecting nvidia-cusparse-cu12==12.1.0.106 (from torch)\n",
            "  Using cached nvidia_cusparse_cu12-12.1.0.106-py3-none-manylinux1_x86_64.whl.metadata (1.6 kB)\n",
            "Collecting nvidia-nccl-cu12==2.20.5 (from torch)\n",
            "  Using cached nvidia_nccl_cu12-2.20.5-py3-none-manylinux2014_x86_64.whl.metadata (1.8 kB)\n",
            "Collecting nvidia-nvtx-cu12==12.1.105 (from torch)\n",
            "  Using cached nvidia_nvtx_cu12-12.1.105-py3-none-manylinux1_x86_64.whl.metadata (1.7 kB)\n",
            "Requirement already satisfied: triton==2.3.1 in /usr/local/lib/python3.10/dist-packages (from torch) (2.3.1)\n",
            "Collecting nvidia-nvjitlink-cu12 (from nvidia-cusolver-cu12==11.4.5.107->torch)\n",
            "  Using cached nvidia_nvjitlink_cu12-12.6.20-py3-none-manylinux2014_x86_64.whl.metadata (1.5 kB)\n",
            "Requirement already satisfied: numpy in /usr/local/lib/python3.10/dist-packages (from torchvision) (1.26.4)\n",
            "Requirement already satisfied: pillow!=8.3.*,>=5.3.0 in /usr/local/lib/python3.10/dist-packages (from torchvision) (9.4.0)\n",
            "Requirement already satisfied: tqdm in /usr/local/lib/python3.10/dist-packages (from opendatasets) (4.66.5)\n",
            "Requirement already satisfied: kaggle in /usr/local/lib/python3.10/dist-packages (from opendatasets) (1.6.17)\n",
            "Requirement already satisfied: click in /usr/local/lib/python3.10/dist-packages (from opendatasets) (8.1.7)\n",
            "Requirement already satisfied: MarkupSafe>=2.0 in /usr/local/lib/python3.10/dist-packages (from jinja2->torch) (2.1.5)\n",
            "Requirement already satisfied: six>=1.10 in /usr/local/lib/python3.10/dist-packages (from kaggle->opendatasets) (1.16.0)\n",
            "Requirement already satisfied: certifi>=2023.7.22 in /usr/local/lib/python3.10/dist-packages (from kaggle->opendatasets) (2024.7.4)\n",
            "Requirement already satisfied: python-dateutil in /usr/local/lib/python3.10/dist-packages (from kaggle->opendatasets) (2.8.2)\n",
            "Requirement already satisfied: requests in /usr/local/lib/python3.10/dist-packages (from kaggle->opendatasets) (2.32.3)\n",
            "Requirement already satisfied: python-slugify in /usr/local/lib/python3.10/dist-packages (from kaggle->opendatasets) (8.0.4)\n",
            "Requirement already satisfied: urllib3 in /usr/local/lib/python3.10/dist-packages (from kaggle->opendatasets) (2.0.7)\n",
            "Requirement already satisfied: bleach in /usr/local/lib/python3.10/dist-packages (from kaggle->opendatasets) (6.1.0)\n",
            "Requirement already satisfied: mpmath<1.4,>=1.1.0 in /usr/local/lib/python3.10/dist-packages (from sympy->torch) (1.3.0)\n",
            "Requirement already satisfied: webencodings in /usr/local/lib/python3.10/dist-packages (from bleach->kaggle->opendatasets) (0.5.1)\n",
            "Requirement already satisfied: text-unidecode>=1.3 in /usr/local/lib/python3.10/dist-packages (from python-slugify->kaggle->opendatasets) (1.3)\n",
            "Requirement already satisfied: charset-normalizer<4,>=2 in /usr/local/lib/python3.10/dist-packages (from requests->kaggle->opendatasets) (3.3.2)\n",
            "Requirement already satisfied: idna<4,>=2.5 in /usr/local/lib/python3.10/dist-packages (from requests->kaggle->opendatasets) (3.7)\n",
            "Using cached nvidia_cublas_cu12-12.1.3.1-py3-none-manylinux1_x86_64.whl (410.6 MB)\n",
            "Using cached nvidia_cuda_cupti_cu12-12.1.105-py3-none-manylinux1_x86_64.whl (14.1 MB)\n",
            "Using cached nvidia_cuda_nvrtc_cu12-12.1.105-py3-none-manylinux1_x86_64.whl (23.7 MB)\n",
            "Using cached nvidia_cuda_runtime_cu12-12.1.105-py3-none-manylinux1_x86_64.whl (823 kB)\n",
            "Using cached nvidia_cudnn_cu12-8.9.2.26-py3-none-manylinux1_x86_64.whl (731.7 MB)\n",
            "Using cached nvidia_cufft_cu12-11.0.2.54-py3-none-manylinux1_x86_64.whl (121.6 MB)\n",
            "Using cached nvidia_curand_cu12-10.3.2.106-py3-none-manylinux1_x86_64.whl (56.5 MB)\n",
            "Using cached nvidia_cusolver_cu12-11.4.5.107-py3-none-manylinux1_x86_64.whl (124.2 MB)\n",
            "Using cached nvidia_cusparse_cu12-12.1.0.106-py3-none-manylinux1_x86_64.whl (196.0 MB)\n",
            "Using cached nvidia_nccl_cu12-2.20.5-py3-none-manylinux2014_x86_64.whl (176.2 MB)\n",
            "Using cached nvidia_nvtx_cu12-12.1.105-py3-none-manylinux1_x86_64.whl (99 kB)\n",
            "Downloading torchinfo-1.8.0-py3-none-any.whl (23 kB)\n",
            "Downloading opendatasets-0.1.22-py3-none-any.whl (15 kB)\n",
            "Using cached nvidia_nvjitlink_cu12-12.6.20-py3-none-manylinux2014_x86_64.whl (19.7 MB)\n",
            "Installing collected packages: torchinfo, nvidia-nvtx-cu12, nvidia-nvjitlink-cu12, nvidia-nccl-cu12, nvidia-curand-cu12, nvidia-cufft-cu12, nvidia-cuda-runtime-cu12, nvidia-cuda-nvrtc-cu12, nvidia-cuda-cupti-cu12, nvidia-cublas-cu12, nvidia-cusparse-cu12, nvidia-cudnn-cu12, opendatasets, nvidia-cusolver-cu12\n",
            "Successfully installed nvidia-cublas-cu12-12.1.3.1 nvidia-cuda-cupti-cu12-12.1.105 nvidia-cuda-nvrtc-cu12-12.1.105 nvidia-cuda-runtime-cu12-12.1.105 nvidia-cudnn-cu12-8.9.2.26 nvidia-cufft-cu12-11.0.2.54 nvidia-curand-cu12-10.3.2.106 nvidia-cusolver-cu12-11.4.5.107 nvidia-cusparse-cu12-12.1.0.106 nvidia-nccl-cu12-2.20.5 nvidia-nvjitlink-cu12-12.6.20 nvidia-nvtx-cu12-12.1.105 opendatasets-0.1.22 torchinfo-1.8.0\n",
            "PyTorch version: 2.3.1+cu121\n",
            "Torchvision version: 0.18.1+cu121\n",
            "Cloning into 'melanoma-detection-model'...\n",
            "remote: Enumerating objects: 24, done.\u001b[K\n",
            "remote: Counting objects: 100% (24/24), done.\u001b[K\n",
            "remote: Compressing objects: 100% (21/21), done.\u001b[K\n",
            "remote: Total 24 (delta 2), reused 19 (delta 1), pack-reused 0\u001b[K\n",
            "Receiving objects: 100% (24/24), 38.50 MiB | 30.78 MiB/s, done.\n",
            "Resolving deltas: 100% (2/2), done.\n",
            "All modules imported successfully.\n"
          ]
        }
      ],
      "source": [
        "# Install necessary packages\n",
        "!pip install torch torchvision torchinfo opendatasets\n",
        "\n",
        "# Import required libraries\n",
        "import torch\n",
        "import torchvision\n",
        "from torch import nn\n",
        "from torchvision import transforms\n",
        "import matplotlib.pyplot as plt\n",
        "import os\n",
        "import pandas as pd\n",
        "from sklearn.model_selection import train_test_split\n",
        "from IPython.display import clear_output\n",
        "from torch.utils.tensorboard import SummaryWriter\n",
        "\n",
        "# Print PyTorch and torchvision versions\n",
        "print(f\"PyTorch version: {torch.__version__}\")\n",
        "print(f\"Torchvision version: {torchvision.__version__}\")\n",
        "\n",
        "# Clone the GitHub repository with custom modules\n",
        "!git clone https://github.com/mlgomez0/melanoma-detection-model\n",
        "!mv melanoma-detection-model/modules .\n",
        "!mv melanoma-detection-model/models .\n",
        "!rm -rf melanoma-detection-model\n",
        "\n",
        "\n",
        "# Import custom modules\n",
        "from modules import data_setup, engine, metrics\n",
        "\n",
        "# Try to get torchinfo, install it if it doesn't work\n",
        "try:\n",
        "    from torchinfo import summary\n",
        "except:\n",
        "    print(\"[INFO] Couldn't find torchinfo... installing it.\")\n",
        "    !pip install -q torchinfo\n",
        "    from torchinfo import summary\n",
        "\n",
        "print(\"All modules imported successfully.\")"
      ]
    },
    {
      "cell_type": "markdown",
      "metadata": {
        "id": "ikvOxBr_xhfY"
      },
      "source": [
        "# Step 2: Download and Prepare the Dataset\n",
        "\n"
      ]
    },
    {
      "cell_type": "markdown",
      "metadata": {
        "id": "ZuipGMiSx19x"
      },
      "source": [
        "This step downloads the dataset from Kaggle, organizes it into train and test folders, and then creates DataLoaders. It ensures that the necessary directory structure is in place before attempting to create the DataLoaders. This approach should work in a new Colab session where the data hasn't been previously downloaded or organized."
      ]
    },
    {
      "cell_type": "code",
      "execution_count": 2,
      "metadata": {
        "colab": {
          "base_uri": "https://localhost:8080/"
        },
        "id": "SG0kXbnHx0kR",
        "outputId": "441b9827-aaae-48e8-b00d-fbafcfd31492"
      },
      "outputs": [
        {
          "output_type": "stream",
          "name": "stdout",
          "text": [
            "Please provide your Kaggle credentials to download this dataset. Learn more: http://bit.ly/kaggle-creds\n",
            "Your Kaggle username: darlingoscanoa\n",
            "Your Kaggle Key: ··········\n",
            "Dataset URL: https://www.kaggle.com/datasets/nischaydnk/isic-2019-jpg-224x224-resized\n",
            "Downloading isic-2019-jpg-224x224-resized.zip to ./isic-2019-jpg-224x224-resized\n"
          ]
        },
        {
          "output_type": "stream",
          "name": "stderr",
          "text": [
            "100%|██████████| 355M/355M [00:07<00:00, 50.4MB/s]\n"
          ]
        },
        {
          "output_type": "stream",
          "name": "stdout",
          "text": [
            "\n",
            "Dataset downloaded and organized into train and test folders.\n",
            "Classes: ['0', '1']\n"
          ]
        }
      ],
      "source": [
        "# Install necessary packages\n",
        "!pip install opendatasets --upgrade --quiet\n",
        "\n",
        "# Import required libraries\n",
        "import opendatasets as od\n",
        "import os\n",
        "import pandas as pd\n",
        "from sklearn.model_selection import train_test_split\n",
        "import shutil\n",
        "\n",
        "# Download the dataset\n",
        "dataset_url = 'https://www.kaggle.com/datasets/nischaydnk/isic-2019-jpg-224x224-resized'\n",
        "od.download(dataset_url)\n",
        "\n",
        "# Define paths\n",
        "dataset_path = 'isic-2019-jpg-224x224-resized/train-image/image'\n",
        "metadata_path = 'isic-2019-jpg-224x224-resized/train-metadata.csv'\n",
        "output_path = 'data'\n",
        "\n",
        "# Function to create train and test folders\n",
        "def create_train_test_folders(dataset_path, metadata_path, output_path):\n",
        "    # Load metadata CSV\n",
        "    df = pd.read_csv(metadata_path)\n",
        "\n",
        "    # Split data into train and test\n",
        "    train_df, test_df = train_test_split(df, test_size=0.2, stratify=df['target'])\n",
        "\n",
        "    # Create train and test directories\n",
        "    train_dir = os.path.join(output_path, 'train')\n",
        "    test_dir = os.path.join(output_path, 'test')\n",
        "    os.makedirs(train_dir, exist_ok=True)\n",
        "    os.makedirs(test_dir, exist_ok=True)\n",
        "\n",
        "    # Copy images to train and test directories\n",
        "    for index, row in train_df.iterrows():\n",
        "        image_name = row['isic_id'] + '.jpg'\n",
        "        image_path = os.path.join(dataset_path, image_name)\n",
        "        target_folder = os.path.join(train_dir, str(row['target']))\n",
        "        os.makedirs(target_folder, exist_ok=True)\n",
        "        shutil.copy(image_path, target_folder)\n",
        "\n",
        "    for index, row in test_df.iterrows():\n",
        "        image_name = row['isic_id'] + '.jpg'\n",
        "        image_path = os.path.join(dataset_path, image_name)\n",
        "        target_folder = os.path.join(test_dir, str(row['target']))\n",
        "        os.makedirs(target_folder, exist_ok=True)\n",
        "        shutil.copy(image_path, target_folder)\n",
        "\n",
        "# Create train and test folders\n",
        "create_train_test_folders(dataset_path, metadata_path, output_path)\n",
        "\n",
        "# Set up data directories\n",
        "train_dir = 'data/train'\n",
        "test_dir = 'data/test'\n",
        "\n",
        "print(\"Dataset downloaded and organized into train and test folders.\")\n",
        "\n",
        "# Now create DataLoaders\n",
        "from torchvision import transforms\n",
        "from modules import data_setup\n",
        "\n",
        "transform = transforms.Compose([\n",
        "    transforms.Resize((224, 224)),\n",
        "    transforms.ToTensor()\n",
        "])\n",
        "\n",
        "train_dataloader, test_dataloader, class_names = data_setup.create_dataloaders(\n",
        "    train_dir=train_dir,\n",
        "    test_dir=test_dir,\n",
        "    transform=transform,\n",
        "    batch_size=32\n",
        ")\n",
        "\n",
        "print(f\"Classes: {class_names}\")"
      ]
    },
    {
      "cell_type": "markdown",
      "metadata": {
        "id": "imedGjHgIH0l"
      },
      "source": [
        "# Step 3: Set Up Device and Create DataLoaders\n"
      ]
    },
    {
      "cell_type": "markdown",
      "metadata": {
        "id": "RP7-hnbgIS9A"
      },
      "source": [
        "This step sets up the device (GPU if available, otherwise CPU) for training and loads the data. We use the same data setup as in the previous notebook, ensuring consistency in our dataset. The DataLoaders are created to efficiently load and preprocess the images during training"
      ]
    },
    {
      "cell_type": "code",
      "execution_count": 3,
      "metadata": {
        "colab": {
          "base_uri": "https://localhost:8080/"
        },
        "id": "G27xoWL8x6UG",
        "outputId": "eaafb2a5-fd40-4828-fb1e-4d3cdfdb1e40"
      },
      "outputs": [
        {
          "output_type": "stream",
          "name": "stdout",
          "text": [
            "Using device: cuda\n",
            "Classes: ['0', '1']\n"
          ]
        }
      ],
      "source": [
        "device = 'cuda' if torch.cuda.is_available() else 'cpu'\n",
        "print(f\"Using device: {device}\")\n",
        "\n",
        "transform = transforms.Compose([\n",
        "    transforms.Resize((224, 224)),\n",
        "    transforms.ToTensor()\n",
        "])\n",
        "\n",
        "train_dataloader, test_dataloader, class_names = data_setup.create_dataloaders(\n",
        "    train_dir=train_dir,\n",
        "    test_dir=test_dir,\n",
        "    transform=transform,\n",
        "    batch_size=32\n",
        ")\n",
        "\n",
        "print(f\"Classes: {class_names}\")"
      ]
    },
    {
      "cell_type": "markdown",
      "metadata": {
        "id": "AqRJNXjaIlVG"
      },
      "source": [
        "# Step 4: Load the Saved MLP Model"
      ]
    },
    {
      "cell_type": "markdown",
      "metadata": {
        "id": "6fOiQuEykd0o"
      },
      "source": [
        "In this step, we define the MLP class to match the architecture of our saved model. We then load the saved model weights and set it to evaluation mode. The model summary is printed to confirm the loaded architecture"
      ]
    },
    {
      "cell_type": "code",
      "execution_count": 4,
      "metadata": {
        "colab": {
          "base_uri": "https://localhost:8080/"
        },
        "id": "mjQH6qZ7IZnC",
        "outputId": "679a65a3-eed7-4eca-a4cf-a544048e17ce"
      },
      "outputs": [
        {
          "output_type": "stream",
          "name": "stdout",
          "text": [
            "Loaded MLP model:\n"
          ]
        },
        {
          "output_type": "execute_result",
          "data": {
            "text/plain": [
              "==========================================================================================\n",
              "Layer (type:depth-idx)                   Output Shape              Param #\n",
              "==========================================================================================\n",
              "MLP                                      [1, 2]                    --\n",
              "├─Flatten: 1-1                           [1, 150528]               --\n",
              "├─Sequential: 1-2                        [1, 2]                    --\n",
              "│    └─Linear: 2-1                       [1, 64]                   9,633,856\n",
              "│    └─BatchNorm1d: 2-2                  [1, 64]                   128\n",
              "│    └─ReLU: 2-3                         [1, 64]                   --\n",
              "│    └─Linear: 2-4                       [1, 64]                   4,160\n",
              "│    └─BatchNorm1d: 2-5                  [1, 64]                   128\n",
              "│    └─ReLU: 2-6                         [1, 64]                   --\n",
              "│    └─Linear: 2-7                       [1, 2]                    130\n",
              "==========================================================================================\n",
              "Total params: 9,638,402\n",
              "Trainable params: 9,638,402\n",
              "Non-trainable params: 0\n",
              "Total mult-adds (M): 9.64\n",
              "==========================================================================================\n",
              "Input size (MB): 0.60\n",
              "Forward/backward pass size (MB): 0.00\n",
              "Params size (MB): 38.55\n",
              "Estimated Total Size (MB): 39.16\n",
              "=========================================================================================="
            ]
          },
          "metadata": {},
          "execution_count": 4
        }
      ],
      "source": [
        "# Define the MLP model structure\n",
        "class MLP(nn.Module):\n",
        "    def __init__(self, input_features, hidden_units, output_features):\n",
        "        super().__init__()\n",
        "        self.flatten = nn.Flatten()\n",
        "        self.layer_stack = nn.Sequential(\n",
        "            nn.Linear(input_features, hidden_units),\n",
        "            nn.BatchNorm1d(hidden_units),\n",
        "            nn.ReLU(),\n",
        "            nn.Linear(hidden_units, hidden_units),\n",
        "            nn.BatchNorm1d(hidden_units),\n",
        "            nn.ReLU(),\n",
        "            nn.Linear(hidden_units, output_features)\n",
        "        )\n",
        "\n",
        "    def forward(self, x):\n",
        "        x = self.flatten(x)\n",
        "        return self.layer_stack(x)\n",
        "\n",
        "# Load the saved MLP model\n",
        "model = MLP(224*224*3, 64, len(class_names)).to(device)\n",
        "model.load_state_dict(torch.load(\"models/mlp_model.pth\"))\n",
        "model.eval()\n",
        "\n",
        "print(\"Loaded MLP model:\")\n",
        "summary(model, input_size=(1, 3, 224, 224))"
      ]
    },
    {
      "cell_type": "markdown",
      "metadata": {
        "id": "sIDUK0K_pAJ-"
      },
      "source": [
        "# Step 5: Freeze Base Layers and Add New Layers"
      ]
    },
    {
      "cell_type": "markdown",
      "metadata": {
        "id": "NcwIGqzLpCBX"
      },
      "source": [
        "This step demonstrates transfer learning by freezing the base layers of our pre-trained model. We then add new layers on top of the frozen base to allow the model to learn new features specific to our task. This approach leverages the knowledge from the pre-trained model while adapting to our specific dataset\n",
        "\n",
        "-It prints the original model structure for reference.\n",
        "\n",
        "-It recreates the base model structure to ensure consistency and correct dimensions.\n",
        "\n",
        "-It freezes all layers except the last one in the original layer_stack.\n",
        "\n",
        "-It adds new layers for transfer learning, ensuring proper connections between layers.\n",
        "\n",
        "-It prints the modified model structure.\n",
        "\n",
        "-Finally, it uses torchinfo.summary() to display a summary of the modified model.\n",
        "\n"
      ]
    },
    {
      "cell_type": "code",
      "execution_count": 5,
      "metadata": {
        "colab": {
          "base_uri": "https://localhost:8080/"
        },
        "id": "p63qUV7To4_l",
        "outputId": "b4674b40-fef3-4d90-8a26-71662f0ea8ff"
      },
      "outputs": [
        {
          "output_type": "stream",
          "name": "stdout",
          "text": [
            "Original model structure:\n",
            "MLP(\n",
            "  (flatten): Flatten(start_dim=1, end_dim=-1)\n",
            "  (layer_stack): Sequential(\n",
            "    (0): Linear(in_features=150528, out_features=64, bias=True)\n",
            "    (1): BatchNorm1d(64, eps=1e-05, momentum=0.1, affine=True, track_running_stats=True)\n",
            "    (2): ReLU()\n",
            "    (3): Linear(in_features=64, out_features=64, bias=True)\n",
            "    (4): BatchNorm1d(64, eps=1e-05, momentum=0.1, affine=True, track_running_stats=True)\n",
            "    (5): ReLU()\n",
            "    (6): Linear(in_features=64, out_features=2, bias=True)\n",
            "  )\n",
            ")\n",
            "\n",
            "Modified model structure:\n",
            "MLP(\n",
            "  (flatten): Flatten(start_dim=1, end_dim=-1)\n",
            "  (layer_stack): Sequential(\n",
            "    (0): Sequential(\n",
            "      (0): Linear(in_features=150528, out_features=64, bias=True)\n",
            "      (1): BatchNorm1d(64, eps=1e-05, momentum=0.1, affine=True, track_running_stats=True)\n",
            "      (2): ReLU()\n",
            "      (3): Linear(in_features=64, out_features=64, bias=True)\n",
            "      (4): BatchNorm1d(64, eps=1e-05, momentum=0.1, affine=True, track_running_stats=True)\n",
            "      (5): ReLU()\n",
            "      (6): Linear(in_features=64, out_features=2, bias=True)\n",
            "    )\n",
            "    (1): Linear(in_features=2, out_features=32, bias=True)\n",
            "    (2): ReLU()\n",
            "    (3): Linear(in_features=32, out_features=2, bias=True)\n",
            "  )\n",
            ")\n",
            "\n",
            "Modified model for transfer learning:\n"
          ]
        },
        {
          "output_type": "execute_result",
          "data": {
            "text/plain": [
              "==========================================================================================\n",
              "Layer (type:depth-idx)                   Output Shape              Param #\n",
              "==========================================================================================\n",
              "MLP                                      [1, 2]                    --\n",
              "├─Flatten: 1-1                           [1, 150528]               --\n",
              "├─Sequential: 1-2                        [1, 2]                    --\n",
              "│    └─Sequential: 2-1                   [1, 2]                    --\n",
              "│    │    └─Linear: 3-1                  [1, 64]                   (9,633,856)\n",
              "│    │    └─BatchNorm1d: 3-2             [1, 64]                   (128)\n",
              "│    │    └─ReLU: 3-3                    [1, 64]                   --\n",
              "│    │    └─Linear: 3-4                  [1, 64]                   (4,160)\n",
              "│    │    └─BatchNorm1d: 3-5             [1, 64]                   (128)\n",
              "│    │    └─ReLU: 3-6                    [1, 64]                   --\n",
              "│    │    └─Linear: 3-7                  [1, 2]                    130\n",
              "│    └─Linear: 2-2                       [1, 32]                   96\n",
              "│    └─ReLU: 2-3                         [1, 32]                   --\n",
              "│    └─Linear: 2-4                       [1, 2]                    66\n",
              "==========================================================================================\n",
              "Total params: 9,638,564\n",
              "Trainable params: 292\n",
              "Non-trainable params: 9,638,272\n",
              "Total mult-adds (M): 9.64\n",
              "==========================================================================================\n",
              "Input size (MB): 0.60\n",
              "Forward/backward pass size (MB): 0.00\n",
              "Params size (MB): 38.55\n",
              "Estimated Total Size (MB): 39.16\n",
              "=========================================================================================="
            ]
          },
          "metadata": {},
          "execution_count": 5
        }
      ],
      "source": [
        "# Print original model structure\n",
        "print(\"Original model structure:\")\n",
        "print(model)\n",
        "\n",
        "# Recreate the base model structure\n",
        "model.layer_stack = nn.Sequential(\n",
        "    nn.Linear(150528, 64),\n",
        "    nn.BatchNorm1d(64),\n",
        "    nn.ReLU(),\n",
        "    nn.Linear(64, 64),\n",
        "    nn.BatchNorm1d(64),\n",
        "    nn.ReLU(),\n",
        "    nn.Linear(64, len(class_names))\n",
        ")\n",
        "\n",
        "# Freeze all layers except the last one\n",
        "for param in list(model.layer_stack.children())[:-1]:\n",
        "    for p in param.parameters():\n",
        "        p.requires_grad = False\n",
        "\n",
        "# Add new layers for transfer learning\n",
        "model.layer_stack = nn.Sequential(\n",
        "    model.layer_stack,\n",
        "    nn.Linear(len(class_names), 32),\n",
        "    nn.ReLU(),\n",
        "    nn.Linear(32, len(class_names))\n",
        ")\n",
        "\n",
        "# Print modified model structure\n",
        "print(\"\\nModified model structure:\")\n",
        "print(model)\n",
        "\n",
        "print(\"\\nModified model for transfer learning:\")\n",
        "summary(model, input_size=(1, 3, 224, 224))"
      ]
    },
    {
      "cell_type": "markdown",
      "metadata": {
        "id": "okQZeyvBs_jx"
      },
      "source": [
        "# Step 6: Set Up Training Parameters\n"
      ]
    },
    {
      "cell_type": "markdown",
      "metadata": {
        "id": "KLSdBIwvtC4O"
      },
      "source": [
        "Here we set up the training parameters for our transfer learning process. We use the same loss function as before but only optimize the parameters of the new layers we added. The learning rate scheduler helps in adjusting the learning rate during training."
      ]
    },
    {
      "cell_type": "code",
      "execution_count": 6,
      "metadata": {
        "id": "HGWKintWpGu3"
      },
      "outputs": [],
      "source": [
        "# Set up loss function and optimizer\n",
        "loss_fn = nn.CrossEntropyLoss()\n",
        "optimizer = torch.optim.Adam(filter(lambda p: p.requires_grad, model.parameters()), lr=0.001)\n",
        "scheduler = torch.optim.lr_scheduler.ReduceLROnPlateau(optimizer, 'min', patience=2)"
      ]
    },
    {
      "cell_type": "markdown",
      "metadata": {
        "id": "vESvL1optI0b"
      },
      "source": [
        "# Step 7: Train the Modified Model"
      ]
    },
    {
      "cell_type": "markdown",
      "metadata": {
        "id": "SsEghxs7tMIs"
      },
      "source": [
        "This step trains the modified model using transfer learning. We use the same training loop as before, but now we're only updating the weights of the new layers we added. The training progress is tracked and printed for each epoch"
      ]
    },
    {
      "cell_type": "code",
      "execution_count": 7,
      "metadata": {
        "colab": {
          "base_uri": "https://localhost:8080/"
        },
        "id": "yO9r7S8ltFtR",
        "outputId": "72754f27-4811-4ff4-dc88-9080160a6666"
      },
      "outputs": [
        {
          "metadata": {
            "tags": null
          },
          "name": "stderr",
          "output_type": "stream",
          "text": [
            "/usr/lib/python3.10/multiprocessing/popen_fork.py:66: RuntimeWarning: os.fork() was called. os.fork() is incompatible with multithreaded code, and JAX is multithreaded, so this will likely lead to a deadlock.\n",
            "  self.pid = os.fork()\n",
            "/usr/lib/python3.10/multiprocessing/popen_fork.py:66: RuntimeWarning: os.fork() was called. os.fork() is incompatible with multithreaded code, and JAX is multithreaded, so this will likely lead to a deadlock.\n",
            "  self.pid = os.fork()\n",
            "/usr/lib/python3.10/multiprocessing/popen_fork.py:66: RuntimeWarning: os.fork() was called. os.fork() is incompatible with multithreaded code, and JAX is multithreaded, so this will likely lead to a deadlock.\n",
            "  self.pid = os.fork()\n"
          ]
        },
        {
          "metadata": {
            "tags": null
          },
          "name": "stdout",
          "output_type": "stream",
          "text": [
            "Epoch: 1 | train_loss: 0.4558 | train_acc: 0.8221 | train_recall: 0.8250 | test_loss: 0.4371 | test_acc: 0.8194 | test_recall: 0.8224\n"
          ]
        },
        {
          "metadata": {
            "tags": null
          },
          "name": "stderr",
          "output_type": "stream",
          "text": [
            "/usr/lib/python3.10/multiprocessing/popen_fork.py:66: RuntimeWarning: os.fork() was called. os.fork() is incompatible with multithreaded code, and JAX is multithreaded, so this will likely lead to a deadlock.\n",
            "  self.pid = os.fork()\n",
            "/usr/lib/python3.10/multiprocessing/popen_fork.py:66: RuntimeWarning: os.fork() was called. os.fork() is incompatible with multithreaded code, and JAX is multithreaded, so this will likely lead to a deadlock.\n",
            "  self.pid = os.fork()\n",
            "/usr/lib/python3.10/multiprocessing/popen_fork.py:66: RuntimeWarning: os.fork() was called. os.fork() is incompatible with multithreaded code, and JAX is multithreaded, so this will likely lead to a deadlock.\n",
            "  self.pid = os.fork()\n",
            "/usr/lib/python3.10/multiprocessing/popen_fork.py:66: RuntimeWarning: os.fork() was called. os.fork() is incompatible with multithreaded code, and JAX is multithreaded, so this will likely lead to a deadlock.\n",
            "  self.pid = os.fork()\n"
          ]
        },
        {
          "metadata": {
            "tags": null
          },
          "name": "stdout",
          "output_type": "stream",
          "text": [
            "Epoch: 2 | train_loss: 0.4279 | train_acc: 0.8264 | train_recall: 0.8318 | test_loss: 0.4278 | test_acc: 0.8225 | test_recall: 0.8255\n"
          ]
        },
        {
          "metadata": {
            "tags": null
          },
          "name": "stderr",
          "output_type": "stream",
          "text": [
            "/usr/lib/python3.10/multiprocessing/popen_fork.py:66: RuntimeWarning: os.fork() was called. os.fork() is incompatible with multithreaded code, and JAX is multithreaded, so this will likely lead to a deadlock.\n",
            "  self.pid = os.fork()\n",
            "/usr/lib/python3.10/multiprocessing/popen_fork.py:66: RuntimeWarning: os.fork() was called. os.fork() is incompatible with multithreaded code, and JAX is multithreaded, so this will likely lead to a deadlock.\n",
            "  self.pid = os.fork()\n",
            "/usr/lib/python3.10/multiprocessing/popen_fork.py:66: RuntimeWarning: os.fork() was called. os.fork() is incompatible with multithreaded code, and JAX is multithreaded, so this will likely lead to a deadlock.\n",
            "  self.pid = os.fork()\n",
            "/usr/lib/python3.10/multiprocessing/popen_fork.py:66: RuntimeWarning: os.fork() was called. os.fork() is incompatible with multithreaded code, and JAX is multithreaded, so this will likely lead to a deadlock.\n",
            "  self.pid = os.fork()\n"
          ]
        },
        {
          "metadata": {
            "tags": null
          },
          "name": "stdout",
          "output_type": "stream",
          "text": [
            "Epoch: 3 | train_loss: 0.4233 | train_acc: 0.8278 | train_recall: 0.8311 | test_loss: 0.4228 | test_acc: 0.8215 | test_recall: 0.8246\n"
          ]
        },
        {
          "metadata": {
            "tags": null
          },
          "name": "stderr",
          "output_type": "stream",
          "text": [
            "/usr/lib/python3.10/multiprocessing/popen_fork.py:66: RuntimeWarning: os.fork() was called. os.fork() is incompatible with multithreaded code, and JAX is multithreaded, so this will likely lead to a deadlock.\n",
            "  self.pid = os.fork()\n",
            "/usr/lib/python3.10/multiprocessing/popen_fork.py:66: RuntimeWarning: os.fork() was called. os.fork() is incompatible with multithreaded code, and JAX is multithreaded, so this will likely lead to a deadlock.\n",
            "  self.pid = os.fork()\n",
            "/usr/lib/python3.10/multiprocessing/popen_fork.py:66: RuntimeWarning: os.fork() was called. os.fork() is incompatible with multithreaded code, and JAX is multithreaded, so this will likely lead to a deadlock.\n",
            "  self.pid = os.fork()\n"
          ]
        },
        {
          "metadata": {
            "tags": null
          },
          "name": "stdout",
          "output_type": "stream",
          "text": [
            "Epoch: 4 | train_loss: 0.4219 | train_acc: 0.8271 | train_recall: 0.8319 | test_loss: 0.4216 | test_acc: 0.8249 | test_recall: 0.8279\n"
          ]
        },
        {
          "metadata": {
            "tags": null
          },
          "name": "stderr",
          "output_type": "stream",
          "text": [
            "/usr/lib/python3.10/multiprocessing/popen_fork.py:66: RuntimeWarning: os.fork() was called. os.fork() is incompatible with multithreaded code, and JAX is multithreaded, so this will likely lead to a deadlock.\n",
            "  self.pid = os.fork()\n",
            "/usr/lib/python3.10/multiprocessing/popen_fork.py:66: RuntimeWarning: os.fork() was called. os.fork() is incompatible with multithreaded code, and JAX is multithreaded, so this will likely lead to a deadlock.\n",
            "  self.pid = os.fork()\n",
            "/usr/lib/python3.10/multiprocessing/popen_fork.py:66: RuntimeWarning: os.fork() was called. os.fork() is incompatible with multithreaded code, and JAX is multithreaded, so this will likely lead to a deadlock.\n",
            "  self.pid = os.fork()\n"
          ]
        },
        {
          "metadata": {
            "tags": null
          },
          "name": "stdout",
          "output_type": "stream",
          "text": [
            "Epoch: 5 | train_loss: 0.4204 | train_acc: 0.8282 | train_recall: 0.8329 | test_loss: 0.4190 | test_acc: 0.8264 | test_recall: 0.8287\n"
          ]
        },
        {
          "output_type": "stream",
          "name": "stderr",
          "text": [
            "/usr/lib/python3.10/multiprocessing/popen_fork.py:66: RuntimeWarning: os.fork() was called. os.fork() is incompatible with multithreaded code, and JAX is multithreaded, so this will likely lead to a deadlock.\n",
            "  self.pid = os.fork()\n",
            "/usr/lib/python3.10/multiprocessing/popen_fork.py:66: RuntimeWarning: os.fork() was called. os.fork() is incompatible with multithreaded code, and JAX is multithreaded, so this will likely lead to a deadlock.\n",
            "  self.pid = os.fork()\n",
            "/usr/lib/python3.10/multiprocessing/popen_fork.py:66: RuntimeWarning: os.fork() was called. os.fork() is incompatible with multithreaded code, and JAX is multithreaded, so this will likely lead to a deadlock.\n",
            "  self.pid = os.fork()\n"
          ]
        },
        {
          "output_type": "stream",
          "name": "stdout",
          "text": [
            "Epoch: 6 | train_loss: 0.4179 | train_acc: 0.8299 | train_recall: 0.8326 | test_loss: 0.4239 | test_acc: 0.8262 | test_recall: 0.8293\n"
          ]
        },
        {
          "output_type": "stream",
          "name": "stderr",
          "text": [
            "/usr/lib/python3.10/multiprocessing/popen_fork.py:66: RuntimeWarning: os.fork() was called. os.fork() is incompatible with multithreaded code, and JAX is multithreaded, so this will likely lead to a deadlock.\n",
            "  self.pid = os.fork()\n",
            "/usr/lib/python3.10/multiprocessing/popen_fork.py:66: RuntimeWarning: os.fork() was called. os.fork() is incompatible with multithreaded code, and JAX is multithreaded, so this will likely lead to a deadlock.\n",
            "  self.pid = os.fork()\n",
            "/usr/lib/python3.10/multiprocessing/popen_fork.py:66: RuntimeWarning: os.fork() was called. os.fork() is incompatible with multithreaded code, and JAX is multithreaded, so this will likely lead to a deadlock.\n",
            "  self.pid = os.fork()\n",
            "/usr/lib/python3.10/multiprocessing/popen_fork.py:66: RuntimeWarning: os.fork() was called. os.fork() is incompatible with multithreaded code, and JAX is multithreaded, so this will likely lead to a deadlock.\n",
            "  self.pid = os.fork()\n"
          ]
        },
        {
          "output_type": "stream",
          "name": "stdout",
          "text": [
            "Epoch: 7 | train_loss: 0.4190 | train_acc: 0.8285 | train_recall: 0.8333 | test_loss: 0.4156 | test_acc: 0.8260 | test_recall: 0.8283\n"
          ]
        },
        {
          "output_type": "stream",
          "name": "stderr",
          "text": [
            "/usr/lib/python3.10/multiprocessing/popen_fork.py:66: RuntimeWarning: os.fork() was called. os.fork() is incompatible with multithreaded code, and JAX is multithreaded, so this will likely lead to a deadlock.\n",
            "  self.pid = os.fork()\n",
            "/usr/lib/python3.10/multiprocessing/popen_fork.py:66: RuntimeWarning: os.fork() was called. os.fork() is incompatible with multithreaded code, and JAX is multithreaded, so this will likely lead to a deadlock.\n",
            "  self.pid = os.fork()\n",
            "/usr/lib/python3.10/multiprocessing/popen_fork.py:66: RuntimeWarning: os.fork() was called. os.fork() is incompatible with multithreaded code, and JAX is multithreaded, so this will likely lead to a deadlock.\n",
            "  self.pid = os.fork()\n"
          ]
        },
        {
          "output_type": "stream",
          "name": "stdout",
          "text": [
            "Epoch: 8 | train_loss: 0.4167 | train_acc: 0.8295 | train_recall: 0.8341 | test_loss: 0.4144 | test_acc: 0.8264 | test_recall: 0.8287\n"
          ]
        },
        {
          "output_type": "stream",
          "name": "stderr",
          "text": [
            "/usr/lib/python3.10/multiprocessing/popen_fork.py:66: RuntimeWarning: os.fork() was called. os.fork() is incompatible with multithreaded code, and JAX is multithreaded, so this will likely lead to a deadlock.\n",
            "  self.pid = os.fork()\n",
            "/usr/lib/python3.10/multiprocessing/popen_fork.py:66: RuntimeWarning: os.fork() was called. os.fork() is incompatible with multithreaded code, and JAX is multithreaded, so this will likely lead to a deadlock.\n",
            "  self.pid = os.fork()\n",
            "/usr/lib/python3.10/multiprocessing/popen_fork.py:66: RuntimeWarning: os.fork() was called. os.fork() is incompatible with multithreaded code, and JAX is multithreaded, so this will likely lead to a deadlock.\n",
            "  self.pid = os.fork()\n"
          ]
        },
        {
          "output_type": "stream",
          "name": "stdout",
          "text": [
            "Epoch: 9 | train_loss: 0.4166 | train_acc: 0.8276 | train_recall: 0.8348 | test_loss: 0.4139 | test_acc: 0.8278 | test_recall: 0.8297\n"
          ]
        },
        {
          "output_type": "stream",
          "name": "stderr",
          "text": [
            "/usr/lib/python3.10/multiprocessing/popen_fork.py:66: RuntimeWarning: os.fork() was called. os.fork() is incompatible with multithreaded code, and JAX is multithreaded, so this will likely lead to a deadlock.\n",
            "  self.pid = os.fork()\n",
            "/usr/lib/python3.10/multiprocessing/popen_fork.py:66: RuntimeWarning: os.fork() was called. os.fork() is incompatible with multithreaded code, and JAX is multithreaded, so this will likely lead to a deadlock.\n",
            "  self.pid = os.fork()\n",
            "/usr/lib/python3.10/multiprocessing/popen_fork.py:66: RuntimeWarning: os.fork() was called. os.fork() is incompatible with multithreaded code, and JAX is multithreaded, so this will likely lead to a deadlock.\n",
            "  self.pid = os.fork()\n"
          ]
        },
        {
          "output_type": "stream",
          "name": "stdout",
          "text": [
            "Epoch: 10 | train_loss: 0.4163 | train_acc: 0.8299 | train_recall: 0.8342 | test_loss: 0.4128 | test_acc: 0.8274 | test_recall: 0.8301\n"
          ]
        },
        {
          "output_type": "stream",
          "name": "stderr",
          "text": [
            "/usr/lib/python3.10/multiprocessing/popen_fork.py:66: RuntimeWarning: os.fork() was called. os.fork() is incompatible with multithreaded code, and JAX is multithreaded, so this will likely lead to a deadlock.\n",
            "  self.pid = os.fork()\n",
            "/usr/lib/python3.10/multiprocessing/popen_fork.py:66: RuntimeWarning: os.fork() was called. os.fork() is incompatible with multithreaded code, and JAX is multithreaded, so this will likely lead to a deadlock.\n",
            "  self.pid = os.fork()\n",
            "/usr/lib/python3.10/multiprocessing/popen_fork.py:66: RuntimeWarning: os.fork() was called. os.fork() is incompatible with multithreaded code, and JAX is multithreaded, so this will likely lead to a deadlock.\n",
            "  self.pid = os.fork()\n"
          ]
        },
        {
          "output_type": "stream",
          "name": "stdout",
          "text": [
            "Epoch: 11 | train_loss: 0.4160 | train_acc: 0.8300 | train_recall: 0.8354 | test_loss: 0.4148 | test_acc: 0.8280 | test_recall: 0.8311\n"
          ]
        },
        {
          "output_type": "stream",
          "name": "stderr",
          "text": [
            "/usr/lib/python3.10/multiprocessing/popen_fork.py:66: RuntimeWarning: os.fork() was called. os.fork() is incompatible with multithreaded code, and JAX is multithreaded, so this will likely lead to a deadlock.\n",
            "  self.pid = os.fork()\n",
            "/usr/lib/python3.10/multiprocessing/popen_fork.py:66: RuntimeWarning: os.fork() was called. os.fork() is incompatible with multithreaded code, and JAX is multithreaded, so this will likely lead to a deadlock.\n",
            "  self.pid = os.fork()\n",
            "/usr/lib/python3.10/multiprocessing/popen_fork.py:66: RuntimeWarning: os.fork() was called. os.fork() is incompatible with multithreaded code, and JAX is multithreaded, so this will likely lead to a deadlock.\n",
            "  self.pid = os.fork()\n"
          ]
        },
        {
          "output_type": "stream",
          "name": "stdout",
          "text": [
            "Epoch: 12 | train_loss: 0.4135 | train_acc: 0.8306 | train_recall: 0.8350 | test_loss: 0.4129 | test_acc: 0.8299 | test_recall: 0.8322\n"
          ]
        },
        {
          "output_type": "stream",
          "name": "stderr",
          "text": [
            "/usr/lib/python3.10/multiprocessing/popen_fork.py:66: RuntimeWarning: os.fork() was called. os.fork() is incompatible with multithreaded code, and JAX is multithreaded, so this will likely lead to a deadlock.\n",
            "  self.pid = os.fork()\n",
            "/usr/lib/python3.10/multiprocessing/popen_fork.py:66: RuntimeWarning: os.fork() was called. os.fork() is incompatible with multithreaded code, and JAX is multithreaded, so this will likely lead to a deadlock.\n",
            "  self.pid = os.fork()\n",
            "/usr/lib/python3.10/multiprocessing/popen_fork.py:66: RuntimeWarning: os.fork() was called. os.fork() is incompatible with multithreaded code, and JAX is multithreaded, so this will likely lead to a deadlock.\n",
            "  self.pid = os.fork()\n",
            "/usr/lib/python3.10/multiprocessing/popen_fork.py:66: RuntimeWarning: os.fork() was called. os.fork() is incompatible with multithreaded code, and JAX is multithreaded, so this will likely lead to a deadlock.\n",
            "  self.pid = os.fork()\n"
          ]
        },
        {
          "output_type": "stream",
          "name": "stdout",
          "text": [
            "Epoch: 13 | train_loss: 0.4128 | train_acc: 0.8315 | train_recall: 0.8351 | test_loss: 0.4130 | test_acc: 0.8262 | test_recall: 0.8289\n"
          ]
        },
        {
          "output_type": "stream",
          "name": "stderr",
          "text": [
            "/usr/lib/python3.10/multiprocessing/popen_fork.py:66: RuntimeWarning: os.fork() was called. os.fork() is incompatible with multithreaded code, and JAX is multithreaded, so this will likely lead to a deadlock.\n",
            "  self.pid = os.fork()\n",
            "/usr/lib/python3.10/multiprocessing/popen_fork.py:66: RuntimeWarning: os.fork() was called. os.fork() is incompatible with multithreaded code, and JAX is multithreaded, so this will likely lead to a deadlock.\n",
            "  self.pid = os.fork()\n",
            "/usr/lib/python3.10/multiprocessing/popen_fork.py:66: RuntimeWarning: os.fork() was called. os.fork() is incompatible with multithreaded code, and JAX is multithreaded, so this will likely lead to a deadlock.\n",
            "  self.pid = os.fork()\n"
          ]
        },
        {
          "output_type": "stream",
          "name": "stdout",
          "text": [
            "Epoch: 14 | train_loss: 0.4114 | train_acc: 0.8316 | train_recall: 0.8348 | test_loss: 0.4129 | test_acc: 0.8284 | test_recall: 0.8311\n"
          ]
        },
        {
          "output_type": "stream",
          "name": "stderr",
          "text": [
            "/usr/lib/python3.10/multiprocessing/popen_fork.py:66: RuntimeWarning: os.fork() was called. os.fork() is incompatible with multithreaded code, and JAX is multithreaded, so this will likely lead to a deadlock.\n",
            "  self.pid = os.fork()\n",
            "/usr/lib/python3.10/multiprocessing/popen_fork.py:66: RuntimeWarning: os.fork() was called. os.fork() is incompatible with multithreaded code, and JAX is multithreaded, so this will likely lead to a deadlock.\n",
            "  self.pid = os.fork()\n",
            "/usr/lib/python3.10/multiprocessing/popen_fork.py:66: RuntimeWarning: os.fork() was called. os.fork() is incompatible with multithreaded code, and JAX is multithreaded, so this will likely lead to a deadlock.\n",
            "  self.pid = os.fork()\n"
          ]
        },
        {
          "output_type": "stream",
          "name": "stdout",
          "text": [
            "Epoch: 15 | train_loss: 0.4118 | train_acc: 0.8311 | train_recall: 0.8357 | test_loss: 0.4123 | test_acc: 0.8300 | test_recall: 0.8326\n"
          ]
        },
        {
          "output_type": "stream",
          "name": "stderr",
          "text": [
            "/usr/lib/python3.10/multiprocessing/popen_fork.py:66: RuntimeWarning: os.fork() was called. os.fork() is incompatible with multithreaded code, and JAX is multithreaded, so this will likely lead to a deadlock.\n",
            "  self.pid = os.fork()\n",
            "/usr/lib/python3.10/multiprocessing/popen_fork.py:66: RuntimeWarning: os.fork() was called. os.fork() is incompatible with multithreaded code, and JAX is multithreaded, so this will likely lead to a deadlock.\n",
            "  self.pid = os.fork()\n",
            "/usr/lib/python3.10/multiprocessing/popen_fork.py:66: RuntimeWarning: os.fork() was called. os.fork() is incompatible with multithreaded code, and JAX is multithreaded, so this will likely lead to a deadlock.\n",
            "  self.pid = os.fork()\n"
          ]
        },
        {
          "output_type": "stream",
          "name": "stdout",
          "text": [
            "Epoch: 16 | train_loss: 0.4100 | train_acc: 0.8333 | train_recall: 0.8352 | test_loss: 0.4124 | test_acc: 0.8290 | test_recall: 0.8317\n"
          ]
        },
        {
          "output_type": "stream",
          "name": "stderr",
          "text": [
            "/usr/lib/python3.10/multiprocessing/popen_fork.py:66: RuntimeWarning: os.fork() was called. os.fork() is incompatible with multithreaded code, and JAX is multithreaded, so this will likely lead to a deadlock.\n",
            "  self.pid = os.fork()\n",
            "/usr/lib/python3.10/multiprocessing/popen_fork.py:66: RuntimeWarning: os.fork() was called. os.fork() is incompatible with multithreaded code, and JAX is multithreaded, so this will likely lead to a deadlock.\n",
            "  self.pid = os.fork()\n",
            "/usr/lib/python3.10/multiprocessing/popen_fork.py:66: RuntimeWarning: os.fork() was called. os.fork() is incompatible with multithreaded code, and JAX is multithreaded, so this will likely lead to a deadlock.\n",
            "  self.pid = os.fork()\n"
          ]
        },
        {
          "output_type": "stream",
          "name": "stdout",
          "text": [
            "Epoch: 17 | train_loss: 0.4108 | train_acc: 0.8319 | train_recall: 0.8355 | test_loss: 0.4120 | test_acc: 0.8276 | test_recall: 0.8303\n"
          ]
        },
        {
          "output_type": "stream",
          "name": "stderr",
          "text": [
            "/usr/lib/python3.10/multiprocessing/popen_fork.py:66: RuntimeWarning: os.fork() was called. os.fork() is incompatible with multithreaded code, and JAX is multithreaded, so this will likely lead to a deadlock.\n",
            "  self.pid = os.fork()\n",
            "/usr/lib/python3.10/multiprocessing/popen_fork.py:66: RuntimeWarning: os.fork() was called. os.fork() is incompatible with multithreaded code, and JAX is multithreaded, so this will likely lead to a deadlock.\n",
            "  self.pid = os.fork()\n",
            "/usr/lib/python3.10/multiprocessing/popen_fork.py:66: RuntimeWarning: os.fork() was called. os.fork() is incompatible with multithreaded code, and JAX is multithreaded, so this will likely lead to a deadlock.\n",
            "  self.pid = os.fork()\n",
            "/usr/lib/python3.10/multiprocessing/popen_fork.py:66: RuntimeWarning: os.fork() was called. os.fork() is incompatible with multithreaded code, and JAX is multithreaded, so this will likely lead to a deadlock.\n",
            "  self.pid = os.fork()\n"
          ]
        },
        {
          "output_type": "stream",
          "name": "stdout",
          "text": [
            "Epoch: 18 | train_loss: 0.4097 | train_acc: 0.8311 | train_recall: 0.8352 | test_loss: 0.4123 | test_acc: 0.8293 | test_recall: 0.8317\n"
          ]
        },
        {
          "output_type": "stream",
          "name": "stderr",
          "text": [
            "/usr/lib/python3.10/multiprocessing/popen_fork.py:66: RuntimeWarning: os.fork() was called. os.fork() is incompatible with multithreaded code, and JAX is multithreaded, so this will likely lead to a deadlock.\n",
            "  self.pid = os.fork()\n",
            "/usr/lib/python3.10/multiprocessing/popen_fork.py:66: RuntimeWarning: os.fork() was called. os.fork() is incompatible with multithreaded code, and JAX is multithreaded, so this will likely lead to a deadlock.\n",
            "  self.pid = os.fork()\n",
            "/usr/lib/python3.10/multiprocessing/popen_fork.py:66: RuntimeWarning: os.fork() was called. os.fork() is incompatible with multithreaded code, and JAX is multithreaded, so this will likely lead to a deadlock.\n",
            "  self.pid = os.fork()\n",
            "/usr/lib/python3.10/multiprocessing/popen_fork.py:66: RuntimeWarning: os.fork() was called. os.fork() is incompatible with multithreaded code, and JAX is multithreaded, so this will likely lead to a deadlock.\n",
            "  self.pid = os.fork()\n"
          ]
        },
        {
          "output_type": "stream",
          "name": "stdout",
          "text": [
            "Epoch: 19 | train_loss: 0.4120 | train_acc: 0.8321 | train_recall: 0.8360 | test_loss: 0.4120 | test_acc: 0.8298 | test_recall: 0.8324\n"
          ]
        },
        {
          "output_type": "stream",
          "name": "stderr",
          "text": [
            "/usr/lib/python3.10/multiprocessing/popen_fork.py:66: RuntimeWarning: os.fork() was called. os.fork() is incompatible with multithreaded code, and JAX is multithreaded, so this will likely lead to a deadlock.\n",
            "  self.pid = os.fork()\n",
            "/usr/lib/python3.10/multiprocessing/popen_fork.py:66: RuntimeWarning: os.fork() was called. os.fork() is incompatible with multithreaded code, and JAX is multithreaded, so this will likely lead to a deadlock.\n",
            "  self.pid = os.fork()\n",
            "/usr/lib/python3.10/multiprocessing/popen_fork.py:66: RuntimeWarning: os.fork() was called. os.fork() is incompatible with multithreaded code, and JAX is multithreaded, so this will likely lead to a deadlock.\n",
            "  self.pid = os.fork()\n"
          ]
        },
        {
          "output_type": "stream",
          "name": "stdout",
          "text": [
            "Epoch: 20 | train_loss: 0.4103 | train_acc: 0.8328 | train_recall: 0.8349 | test_loss: 0.4109 | test_acc: 0.8290 | test_recall: 0.8313\n"
          ]
        },
        {
          "output_type": "stream",
          "name": "stderr",
          "text": [
            "/usr/lib/python3.10/multiprocessing/popen_fork.py:66: RuntimeWarning: os.fork() was called. os.fork() is incompatible with multithreaded code, and JAX is multithreaded, so this will likely lead to a deadlock.\n",
            "  self.pid = os.fork()\n",
            "/usr/lib/python3.10/multiprocessing/popen_fork.py:66: RuntimeWarning: os.fork() was called. os.fork() is incompatible with multithreaded code, and JAX is multithreaded, so this will likely lead to a deadlock.\n",
            "  self.pid = os.fork()\n",
            "/usr/lib/python3.10/multiprocessing/popen_fork.py:66: RuntimeWarning: os.fork() was called. os.fork() is incompatible with multithreaded code, and JAX is multithreaded, so this will likely lead to a deadlock.\n",
            "  self.pid = os.fork()\n"
          ]
        },
        {
          "output_type": "stream",
          "name": "stdout",
          "text": [
            "Epoch: 21 | train_loss: 0.4113 | train_acc: 0.8316 | train_recall: 0.8344 | test_loss: 0.4130 | test_acc: 0.8294 | test_recall: 0.8321\n"
          ]
        },
        {
          "output_type": "stream",
          "name": "stderr",
          "text": [
            "/usr/lib/python3.10/multiprocessing/popen_fork.py:66: RuntimeWarning: os.fork() was called. os.fork() is incompatible with multithreaded code, and JAX is multithreaded, so this will likely lead to a deadlock.\n",
            "  self.pid = os.fork()\n",
            "/usr/lib/python3.10/multiprocessing/popen_fork.py:66: RuntimeWarning: os.fork() was called. os.fork() is incompatible with multithreaded code, and JAX is multithreaded, so this will likely lead to a deadlock.\n",
            "  self.pid = os.fork()\n",
            "/usr/lib/python3.10/multiprocessing/popen_fork.py:66: RuntimeWarning: os.fork() was called. os.fork() is incompatible with multithreaded code, and JAX is multithreaded, so this will likely lead to a deadlock.\n",
            "  self.pid = os.fork()\n"
          ]
        },
        {
          "output_type": "stream",
          "name": "stdout",
          "text": [
            "Epoch: 22 | train_loss: 0.4106 | train_acc: 0.8329 | train_recall: 0.8355 | test_loss: 0.4108 | test_acc: 0.8295 | test_recall: 0.8315\n"
          ]
        },
        {
          "output_type": "stream",
          "name": "stderr",
          "text": [
            "/usr/lib/python3.10/multiprocessing/popen_fork.py:66: RuntimeWarning: os.fork() was called. os.fork() is incompatible with multithreaded code, and JAX is multithreaded, so this will likely lead to a deadlock.\n",
            "  self.pid = os.fork()\n",
            "/usr/lib/python3.10/multiprocessing/popen_fork.py:66: RuntimeWarning: os.fork() was called. os.fork() is incompatible with multithreaded code, and JAX is multithreaded, so this will likely lead to a deadlock.\n",
            "  self.pid = os.fork()\n",
            "/usr/lib/python3.10/multiprocessing/popen_fork.py:66: RuntimeWarning: os.fork() was called. os.fork() is incompatible with multithreaded code, and JAX is multithreaded, so this will likely lead to a deadlock.\n",
            "  self.pid = os.fork()\n"
          ]
        },
        {
          "output_type": "stream",
          "name": "stdout",
          "text": [
            "Epoch: 23 | train_loss: 0.4105 | train_acc: 0.8313 | train_recall: 0.8361 | test_loss: 0.4112 | test_acc: 0.8303 | test_recall: 0.8330\n"
          ]
        },
        {
          "output_type": "stream",
          "name": "stderr",
          "text": [
            "/usr/lib/python3.10/multiprocessing/popen_fork.py:66: RuntimeWarning: os.fork() was called. os.fork() is incompatible with multithreaded code, and JAX is multithreaded, so this will likely lead to a deadlock.\n",
            "  self.pid = os.fork()\n",
            "/usr/lib/python3.10/multiprocessing/popen_fork.py:66: RuntimeWarning: os.fork() was called. os.fork() is incompatible with multithreaded code, and JAX is multithreaded, so this will likely lead to a deadlock.\n",
            "  self.pid = os.fork()\n",
            "/usr/lib/python3.10/multiprocessing/popen_fork.py:66: RuntimeWarning: os.fork() was called. os.fork() is incompatible with multithreaded code, and JAX is multithreaded, so this will likely lead to a deadlock.\n",
            "  self.pid = os.fork()\n"
          ]
        },
        {
          "output_type": "stream",
          "name": "stdout",
          "text": [
            "Epoch: 24 | train_loss: 0.4112 | train_acc: 0.8323 | train_recall: 0.8348 | test_loss: 0.4114 | test_acc: 0.8292 | test_recall: 0.8319\n"
          ]
        },
        {
          "output_type": "stream",
          "name": "stderr",
          "text": [
            "/usr/lib/python3.10/multiprocessing/popen_fork.py:66: RuntimeWarning: os.fork() was called. os.fork() is incompatible with multithreaded code, and JAX is multithreaded, so this will likely lead to a deadlock.\n",
            "  self.pid = os.fork()\n",
            "/usr/lib/python3.10/multiprocessing/popen_fork.py:66: RuntimeWarning: os.fork() was called. os.fork() is incompatible with multithreaded code, and JAX is multithreaded, so this will likely lead to a deadlock.\n",
            "  self.pid = os.fork()\n"
          ]
        },
        {
          "output_type": "stream",
          "name": "stdout",
          "text": [
            "Epoch: 25 | train_loss: 0.4113 | train_acc: 0.8310 | train_recall: 0.8351 | test_loss: 0.4111 | test_acc: 0.8295 | test_recall: 0.8315\n"
          ]
        },
        {
          "output_type": "stream",
          "name": "stderr",
          "text": [
            "/usr/lib/python3.10/multiprocessing/popen_fork.py:66: RuntimeWarning: os.fork() was called. os.fork() is incompatible with multithreaded code, and JAX is multithreaded, so this will likely lead to a deadlock.\n",
            "  self.pid = os.fork()\n",
            "/usr/lib/python3.10/multiprocessing/popen_fork.py:66: RuntimeWarning: os.fork() was called. os.fork() is incompatible with multithreaded code, and JAX is multithreaded, so this will likely lead to a deadlock.\n",
            "  self.pid = os.fork()\n",
            "/usr/lib/python3.10/multiprocessing/popen_fork.py:66: RuntimeWarning: os.fork() was called. os.fork() is incompatible with multithreaded code, and JAX is multithreaded, so this will likely lead to a deadlock.\n",
            "  self.pid = os.fork()\n"
          ]
        },
        {
          "output_type": "stream",
          "name": "stdout",
          "text": [
            "Epoch: 26 | train_loss: 0.4109 | train_acc: 0.8306 | train_recall: 0.8347 | test_loss: 0.4123 | test_acc: 0.8300 | test_recall: 0.8326\n"
          ]
        },
        {
          "output_type": "stream",
          "name": "stderr",
          "text": [
            "/usr/lib/python3.10/multiprocessing/popen_fork.py:66: RuntimeWarning: os.fork() was called. os.fork() is incompatible with multithreaded code, and JAX is multithreaded, so this will likely lead to a deadlock.\n",
            "  self.pid = os.fork()\n",
            "/usr/lib/python3.10/multiprocessing/popen_fork.py:66: RuntimeWarning: os.fork() was called. os.fork() is incompatible with multithreaded code, and JAX is multithreaded, so this will likely lead to a deadlock.\n",
            "  self.pid = os.fork()\n",
            "/usr/lib/python3.10/multiprocessing/popen_fork.py:66: RuntimeWarning: os.fork() was called. os.fork() is incompatible with multithreaded code, and JAX is multithreaded, so this will likely lead to a deadlock.\n",
            "  self.pid = os.fork()\n"
          ]
        },
        {
          "output_type": "stream",
          "name": "stdout",
          "text": [
            "Epoch: 27 | train_loss: 0.4098 | train_acc: 0.8312 | train_recall: 0.8345 | test_loss: 0.4107 | test_acc: 0.8287 | test_recall: 0.8307\n"
          ]
        },
        {
          "output_type": "stream",
          "name": "stderr",
          "text": [
            "/usr/lib/python3.10/multiprocessing/popen_fork.py:66: RuntimeWarning: os.fork() was called. os.fork() is incompatible with multithreaded code, and JAX is multithreaded, so this will likely lead to a deadlock.\n",
            "  self.pid = os.fork()\n",
            "/usr/lib/python3.10/multiprocessing/popen_fork.py:66: RuntimeWarning: os.fork() was called. os.fork() is incompatible with multithreaded code, and JAX is multithreaded, so this will likely lead to a deadlock.\n",
            "  self.pid = os.fork()\n",
            "/usr/lib/python3.10/multiprocessing/popen_fork.py:66: RuntimeWarning: os.fork() was called. os.fork() is incompatible with multithreaded code, and JAX is multithreaded, so this will likely lead to a deadlock.\n",
            "  self.pid = os.fork()\n"
          ]
        },
        {
          "output_type": "stream",
          "name": "stdout",
          "text": [
            "Epoch: 28 | train_loss: 0.4107 | train_acc: 0.8313 | train_recall: 0.8355 | test_loss: 0.4115 | test_acc: 0.8294 | test_recall: 0.8321\n"
          ]
        },
        {
          "output_type": "stream",
          "name": "stderr",
          "text": [
            "/usr/lib/python3.10/multiprocessing/popen_fork.py:66: RuntimeWarning: os.fork() was called. os.fork() is incompatible with multithreaded code, and JAX is multithreaded, so this will likely lead to a deadlock.\n",
            "  self.pid = os.fork()\n",
            "/usr/lib/python3.10/multiprocessing/popen_fork.py:66: RuntimeWarning: os.fork() was called. os.fork() is incompatible with multithreaded code, and JAX is multithreaded, so this will likely lead to a deadlock.\n",
            "  self.pid = os.fork()\n",
            "/usr/lib/python3.10/multiprocessing/popen_fork.py:66: RuntimeWarning: os.fork() was called. os.fork() is incompatible with multithreaded code, and JAX is multithreaded, so this will likely lead to a deadlock.\n",
            "  self.pid = os.fork()\n"
          ]
        },
        {
          "output_type": "stream",
          "name": "stdout",
          "text": [
            "Epoch: 29 | train_loss: 0.4110 | train_acc: 0.8298 | train_recall: 0.8352 | test_loss: 0.4114 | test_acc: 0.8274 | test_recall: 0.8301\n"
          ]
        },
        {
          "output_type": "stream",
          "name": "stderr",
          "text": [
            "/usr/lib/python3.10/multiprocessing/popen_fork.py:66: RuntimeWarning: os.fork() was called. os.fork() is incompatible with multithreaded code, and JAX is multithreaded, so this will likely lead to a deadlock.\n",
            "  self.pid = os.fork()\n",
            "/usr/lib/python3.10/multiprocessing/popen_fork.py:66: RuntimeWarning: os.fork() was called. os.fork() is incompatible with multithreaded code, and JAX is multithreaded, so this will likely lead to a deadlock.\n",
            "  self.pid = os.fork()\n",
            "/usr/lib/python3.10/multiprocessing/popen_fork.py:66: RuntimeWarning: os.fork() was called. os.fork() is incompatible with multithreaded code, and JAX is multithreaded, so this will likely lead to a deadlock.\n",
            "  self.pid = os.fork()\n"
          ]
        },
        {
          "output_type": "stream",
          "name": "stdout",
          "text": [
            "Epoch: 30 | train_loss: 0.4090 | train_acc: 0.8324 | train_recall: 0.8353 | test_loss: 0.4117 | test_acc: 0.8293 | test_recall: 0.8313\n"
          ]
        },
        {
          "output_type": "stream",
          "name": "stderr",
          "text": [
            "/usr/lib/python3.10/multiprocessing/popen_fork.py:66: RuntimeWarning: os.fork() was called. os.fork() is incompatible with multithreaded code, and JAX is multithreaded, so this will likely lead to a deadlock.\n",
            "  self.pid = os.fork()\n",
            "/usr/lib/python3.10/multiprocessing/popen_fork.py:66: RuntimeWarning: os.fork() was called. os.fork() is incompatible with multithreaded code, and JAX is multithreaded, so this will likely lead to a deadlock.\n",
            "  self.pid = os.fork()\n",
            "/usr/lib/python3.10/multiprocessing/popen_fork.py:66: RuntimeWarning: os.fork() was called. os.fork() is incompatible with multithreaded code, and JAX is multithreaded, so this will likely lead to a deadlock.\n",
            "  self.pid = os.fork()\n",
            "/usr/lib/python3.10/multiprocessing/popen_fork.py:66: RuntimeWarning: os.fork() was called. os.fork() is incompatible with multithreaded code, and JAX is multithreaded, so this will likely lead to a deadlock.\n",
            "  self.pid = os.fork()\n"
          ]
        },
        {
          "output_type": "stream",
          "name": "stdout",
          "text": [
            "Epoch: 31 | train_loss: 0.4105 | train_acc: 0.8321 | train_recall: 0.8351 | test_loss: 0.4115 | test_acc: 0.8299 | test_recall: 0.8319\n"
          ]
        },
        {
          "output_type": "stream",
          "name": "stderr",
          "text": [
            "/usr/lib/python3.10/multiprocessing/popen_fork.py:66: RuntimeWarning: os.fork() was called. os.fork() is incompatible with multithreaded code, and JAX is multithreaded, so this will likely lead to a deadlock.\n",
            "  self.pid = os.fork()\n",
            "/usr/lib/python3.10/multiprocessing/popen_fork.py:66: RuntimeWarning: os.fork() was called. os.fork() is incompatible with multithreaded code, and JAX is multithreaded, so this will likely lead to a deadlock.\n",
            "  self.pid = os.fork()\n",
            "/usr/lib/python3.10/multiprocessing/popen_fork.py:66: RuntimeWarning: os.fork() was called. os.fork() is incompatible with multithreaded code, and JAX is multithreaded, so this will likely lead to a deadlock.\n",
            "  self.pid = os.fork()\n"
          ]
        },
        {
          "output_type": "stream",
          "name": "stdout",
          "text": [
            "Epoch: 32 | train_loss: 0.4103 | train_acc: 0.8325 | train_recall: 0.8351 | test_loss: 0.4117 | test_acc: 0.8286 | test_recall: 0.8309\n"
          ]
        },
        {
          "output_type": "stream",
          "name": "stderr",
          "text": [
            "/usr/lib/python3.10/multiprocessing/popen_fork.py:66: RuntimeWarning: os.fork() was called. os.fork() is incompatible with multithreaded code, and JAX is multithreaded, so this will likely lead to a deadlock.\n",
            "  self.pid = os.fork()\n",
            "/usr/lib/python3.10/multiprocessing/popen_fork.py:66: RuntimeWarning: os.fork() was called. os.fork() is incompatible with multithreaded code, and JAX is multithreaded, so this will likely lead to a deadlock.\n",
            "  self.pid = os.fork()\n",
            "/usr/lib/python3.10/multiprocessing/popen_fork.py:66: RuntimeWarning: os.fork() was called. os.fork() is incompatible with multithreaded code, and JAX is multithreaded, so this will likely lead to a deadlock.\n",
            "  self.pid = os.fork()\n"
          ]
        },
        {
          "output_type": "stream",
          "name": "stdout",
          "text": [
            "Epoch: 33 | train_loss: 0.4109 | train_acc: 0.8311 | train_recall: 0.8352 | test_loss: 0.4118 | test_acc: 0.8276 | test_recall: 0.8303\n"
          ]
        },
        {
          "output_type": "stream",
          "name": "stderr",
          "text": [
            "/usr/lib/python3.10/multiprocessing/popen_fork.py:66: RuntimeWarning: os.fork() was called. os.fork() is incompatible with multithreaded code, and JAX is multithreaded, so this will likely lead to a deadlock.\n",
            "  self.pid = os.fork()\n",
            "/usr/lib/python3.10/multiprocessing/popen_fork.py:66: RuntimeWarning: os.fork() was called. os.fork() is incompatible with multithreaded code, and JAX is multithreaded, so this will likely lead to a deadlock.\n",
            "  self.pid = os.fork()\n",
            "/usr/lib/python3.10/multiprocessing/popen_fork.py:66: RuntimeWarning: os.fork() was called. os.fork() is incompatible with multithreaded code, and JAX is multithreaded, so this will likely lead to a deadlock.\n",
            "  self.pid = os.fork()\n"
          ]
        },
        {
          "output_type": "stream",
          "name": "stdout",
          "text": [
            "Epoch: 34 | train_loss: 0.4091 | train_acc: 0.8321 | train_recall: 0.8354 | test_loss: 0.4110 | test_acc: 0.8288 | test_recall: 0.8311\n"
          ]
        },
        {
          "output_type": "stream",
          "name": "stderr",
          "text": [
            "/usr/lib/python3.10/multiprocessing/popen_fork.py:66: RuntimeWarning: os.fork() was called. os.fork() is incompatible with multithreaded code, and JAX is multithreaded, so this will likely lead to a deadlock.\n",
            "  self.pid = os.fork()\n",
            "/usr/lib/python3.10/multiprocessing/popen_fork.py:66: RuntimeWarning: os.fork() was called. os.fork() is incompatible with multithreaded code, and JAX is multithreaded, so this will likely lead to a deadlock.\n",
            "  self.pid = os.fork()\n"
          ]
        },
        {
          "output_type": "stream",
          "name": "stdout",
          "text": [
            "Epoch: 35 | train_loss: 0.4098 | train_acc: 0.8322 | train_recall: 0.8355 | test_loss: 0.4120 | test_acc: 0.8305 | test_recall: 0.8332\n"
          ]
        },
        {
          "output_type": "stream",
          "name": "stderr",
          "text": [
            "/usr/lib/python3.10/multiprocessing/popen_fork.py:66: RuntimeWarning: os.fork() was called. os.fork() is incompatible with multithreaded code, and JAX is multithreaded, so this will likely lead to a deadlock.\n",
            "  self.pid = os.fork()\n",
            "/usr/lib/python3.10/multiprocessing/popen_fork.py:66: RuntimeWarning: os.fork() was called. os.fork() is incompatible with multithreaded code, and JAX is multithreaded, so this will likely lead to a deadlock.\n",
            "  self.pid = os.fork()\n",
            "/usr/lib/python3.10/multiprocessing/popen_fork.py:66: RuntimeWarning: os.fork() was called. os.fork() is incompatible with multithreaded code, and JAX is multithreaded, so this will likely lead to a deadlock.\n",
            "  self.pid = os.fork()\n"
          ]
        },
        {
          "output_type": "stream",
          "name": "stdout",
          "text": [
            "Epoch: 36 | train_loss: 0.4108 | train_acc: 0.8328 | train_recall: 0.8360 | test_loss: 0.4117 | test_acc: 0.8294 | test_recall: 0.8321\n"
          ]
        },
        {
          "output_type": "stream",
          "name": "stderr",
          "text": [
            "/usr/lib/python3.10/multiprocessing/popen_fork.py:66: RuntimeWarning: os.fork() was called. os.fork() is incompatible with multithreaded code, and JAX is multithreaded, so this will likely lead to a deadlock.\n",
            "  self.pid = os.fork()\n",
            "/usr/lib/python3.10/multiprocessing/popen_fork.py:66: RuntimeWarning: os.fork() was called. os.fork() is incompatible with multithreaded code, and JAX is multithreaded, so this will likely lead to a deadlock.\n",
            "  self.pid = os.fork()\n",
            "/usr/lib/python3.10/multiprocessing/popen_fork.py:66: RuntimeWarning: os.fork() was called. os.fork() is incompatible with multithreaded code, and JAX is multithreaded, so this will likely lead to a deadlock.\n",
            "  self.pid = os.fork()\n",
            "/usr/lib/python3.10/multiprocessing/popen_fork.py:66: RuntimeWarning: os.fork() was called. os.fork() is incompatible with multithreaded code, and JAX is multithreaded, so this will likely lead to a deadlock.\n",
            "  self.pid = os.fork()\n"
          ]
        },
        {
          "output_type": "stream",
          "name": "stdout",
          "text": [
            "Epoch: 37 | train_loss: 0.4085 | train_acc: 0.8333 | train_recall: 0.8360 | test_loss: 0.4112 | test_acc: 0.8280 | test_recall: 0.8307\n"
          ]
        },
        {
          "output_type": "stream",
          "name": "stderr",
          "text": [
            "/usr/lib/python3.10/multiprocessing/popen_fork.py:66: RuntimeWarning: os.fork() was called. os.fork() is incompatible with multithreaded code, and JAX is multithreaded, so this will likely lead to a deadlock.\n",
            "  self.pid = os.fork()\n",
            "/usr/lib/python3.10/multiprocessing/popen_fork.py:66: RuntimeWarning: os.fork() was called. os.fork() is incompatible with multithreaded code, and JAX is multithreaded, so this will likely lead to a deadlock.\n",
            "  self.pid = os.fork()\n",
            "/usr/lib/python3.10/multiprocessing/popen_fork.py:66: RuntimeWarning: os.fork() was called. os.fork() is incompatible with multithreaded code, and JAX is multithreaded, so this will likely lead to a deadlock.\n",
            "  self.pid = os.fork()\n"
          ]
        },
        {
          "output_type": "stream",
          "name": "stdout",
          "text": [
            "Epoch: 38 | train_loss: 0.4095 | train_acc: 0.8316 | train_recall: 0.8354 | test_loss: 0.4113 | test_acc: 0.8303 | test_recall: 0.8330\n"
          ]
        },
        {
          "output_type": "stream",
          "name": "stderr",
          "text": [
            "/usr/lib/python3.10/multiprocessing/popen_fork.py:66: RuntimeWarning: os.fork() was called. os.fork() is incompatible with multithreaded code, and JAX is multithreaded, so this will likely lead to a deadlock.\n",
            "  self.pid = os.fork()\n",
            "/usr/lib/python3.10/multiprocessing/popen_fork.py:66: RuntimeWarning: os.fork() was called. os.fork() is incompatible with multithreaded code, and JAX is multithreaded, so this will likely lead to a deadlock.\n",
            "  self.pid = os.fork()\n",
            "/usr/lib/python3.10/multiprocessing/popen_fork.py:66: RuntimeWarning: os.fork() was called. os.fork() is incompatible with multithreaded code, and JAX is multithreaded, so this will likely lead to a deadlock.\n",
            "  self.pid = os.fork()\n"
          ]
        },
        {
          "output_type": "stream",
          "name": "stdout",
          "text": [
            "Epoch: 39 | train_loss: 0.4109 | train_acc: 0.8325 | train_recall: 0.8353 | test_loss: 0.4119 | test_acc: 0.8293 | test_recall: 0.8317\n"
          ]
        },
        {
          "output_type": "stream",
          "name": "stderr",
          "text": [
            "/usr/lib/python3.10/multiprocessing/popen_fork.py:66: RuntimeWarning: os.fork() was called. os.fork() is incompatible with multithreaded code, and JAX is multithreaded, so this will likely lead to a deadlock.\n",
            "  self.pid = os.fork()\n",
            "/usr/lib/python3.10/multiprocessing/popen_fork.py:66: RuntimeWarning: os.fork() was called. os.fork() is incompatible with multithreaded code, and JAX is multithreaded, so this will likely lead to a deadlock.\n",
            "  self.pid = os.fork()\n",
            "/usr/lib/python3.10/multiprocessing/popen_fork.py:66: RuntimeWarning: os.fork() was called. os.fork() is incompatible with multithreaded code, and JAX is multithreaded, so this will likely lead to a deadlock.\n",
            "  self.pid = os.fork()\n",
            "/usr/lib/python3.10/multiprocessing/popen_fork.py:66: RuntimeWarning: os.fork() was called. os.fork() is incompatible with multithreaded code, and JAX is multithreaded, so this will likely lead to a deadlock.\n",
            "  self.pid = os.fork()\n"
          ]
        },
        {
          "output_type": "stream",
          "name": "stdout",
          "text": [
            "Epoch: 40 | train_loss: 0.4120 | train_acc: 0.8319 | train_recall: 0.8354 | test_loss: 0.4123 | test_acc: 0.8280 | test_recall: 0.8307\n"
          ]
        }
      ],
      "source": [
        "# Custom training loop\n",
        "results = {\"train_loss\": [], \"train_acc\": [], \"train_recall\": [], \"test_loss\": [], \"test_acc\": [], \"test_recall\": []}\n",
        "\n",
        "num_epochs = 40\n",
        "for epoch in range(num_epochs):\n",
        "    train_loss, train_acc = engine.train_step(model, train_dataloader, loss_fn, optimizer, device)\n",
        "    test_loss, test_acc = engine.test_step(model, test_dataloader, loss_fn, device)\n",
        "\n",
        "    # Calculate recall for both train and test sets\n",
        "    train_recall = metrics.calculate_recall(model, train_dataloader, device)\n",
        "    test_recall = metrics.calculate_recall(model, test_dataloader, device)\n",
        "\n",
        "    results[\"train_loss\"].append(train_loss)\n",
        "    results[\"train_acc\"].append(train_acc)\n",
        "    results[\"train_recall\"].append(train_recall)\n",
        "    results[\"test_loss\"].append(test_loss)\n",
        "    results[\"test_acc\"].append(test_acc)\n",
        "    results[\"test_recall\"].append(test_recall)\n",
        "\n",
        "    print(f\"Epoch: {epoch+1} | train_loss: {train_loss:.4f} | train_acc: {train_acc:.4f} | train_recall: {train_recall:.4f} | test_loss: {test_loss:.4f} | test_acc: {test_acc:.4f} | test_recall: {test_recall:.4f}\")\n",
        "\n",
        "    # Step the scheduler\n",
        "    scheduler.step(test_loss)"
      ]
    },
    {
      "cell_type": "markdown",
      "metadata": {
        "id": "9DxlIpeztRBr"
      },
      "source": [
        "# Step 8: Visualize Results"
      ]
    },
    {
      "cell_type": "markdown",
      "metadata": {
        "id": "VJrNo-hgtT1H"
      },
      "source": [
        "This step visualizes the training and testing metrics (loss, accuracy, and recall) for our transfer learning model. The plots help us understand how the model's performance evolves over the training epochs and how it compares to the original model."
      ]
    },
    {
      "cell_type": "code",
      "execution_count": 8,
      "metadata": {
        "colab": {
          "base_uri": "https://localhost:8080/",
          "height": 507
        },
        "id": "fpOm7avstWEQ",
        "outputId": "c7e7a883-0e67-4bec-b279-6c56764dfa55"
      },
      "outputs": [
        {
          "output_type": "display_data",
          "data": {
            "text/plain": [
              "<Figure size 1500x500 with 3 Axes>"
            ],
            "image/png": "[encoded data removed]"
          },
          "metadata": {}
        }
      ],
      "source": [
        "def plot_results(results):\n",
        "    plt.figure(figsize=(15, 5))\n",
        "\n",
        "    plt.subplot(1, 3, 1)\n",
        "    plt.plot(results['train_loss'], label='Train Loss')\n",
        "    plt.plot(results['test_loss'], label='Test Loss')\n",
        "    plt.title('Basic-Transfer_Learning-Loss')\n",
        "    plt.xlabel('Epochs')\n",
        "    plt.ylabel('Loss')\n",
        "    plt.legend()\n",
        "\n",
        "    plt.subplot(1, 3, 2)\n",
        "    plt.plot(results['train_acc'], label='Train Accuracy')\n",
        "    plt.plot(results['test_acc'], label='Test Accuracy')\n",
        "    plt.title('Basic-Transfer_Learning-Accuracy')\n",
        "    plt.xlabel('Epochs')\n",
        "    plt.ylabel('Accuracy')\n",
        "    plt.legend()\n",
        "\n",
        "    plt.subplot(1, 3, 3)\n",
        "    plt.plot(results['train_recall'], label='Train Recall')\n",
        "    plt.plot(results['test_recall'], label='Test Recall')\n",
        "    plt.title('Basic-Transfer_Learning-Recall')\n",
        "    plt.xlabel('Epochs')\n",
        "    plt.ylabel('Recall')\n",
        "    plt.legend()\n",
        "\n",
        "    plt.tight_layout()\n",
        "    plt.show()\n",
        "\n",
        "plot_results(results)"
      ]
    },
    {
      "cell_type": "markdown",
      "source": [
        "In our transfer learning experiment, we focused on modifying only the last layer of our pre-trained MLP model. Despite extending the training to 40 epochs, we did not observe significant improvement compared to our original MLP model. This result, while not showing the improvement we initially hoped for, provides valuable insights into the transfer learning process.\n",
        "\n",
        "It highlights the critical importance of carefully selecting which layers to fine-tune and suggests that modifying only the last layer may not be the most effective approach for this particular task.\n",
        "\n",
        "This experiment serves as a stepping stone for future research, indicating the need for a more comprehensive approach to layer selection in transfer learning.\n",
        "\n",
        "Future experiments could explore fine-tuning multiple layers, gradually unfreezing layers during training, or investigating alternative architectures more suitable for transfer learning in melanoma detection.\n",
        "\n",
        "These findings, although not showing improvement, are crucial in the scientific process, guiding our understanding of the limitations of certain approaches and informing future research directions."
      ],
      "metadata": {
        "id": "BIZlDsA3DVRS"
      }
    },
    {
      "cell_type": "markdown",
      "metadata": {
        "id": "rSzJsF8dtZf2"
      },
      "source": [
        "# Step 9: Save the Transfer Learning Model"
      ]
    },
    {
      "cell_type": "markdown",
      "metadata": {
        "id": "nFdQdy8ttbwj"
      },
      "source": [
        "Here we save the weights of our transfer learning model. This allows us to use this improved model in future applications or for further fine-tuning without having to retrain from scratch"
      ]
    },
    {
      "cell_type": "code",
      "execution_count": 9,
      "metadata": {
        "colab": {
          "base_uri": "https://localhost:8080/"
        },
        "id": "lWeW3Ebgtdtq",
        "outputId": "c2be3cdf-07f6-4e07-972a-f02ae1406346"
      },
      "outputs": [
        {
          "output_type": "stream",
          "name": "stdout",
          "text": [
            "Transfer learning model saved.\n"
          ]
        }
      ],
      "source": [
        "# Save the transfer learning model\n",
        "torch.save(model.state_dict(), \"models/transfer_learning_mlp.pth\")\n",
        "print(\"Transfer learning model saved.\")"
      ]
    },
    {
      "cell_type": "markdown",
      "metadata": {
        "id": "ioI-aRpxtgm-"
      },
      "source": [
        "# Step 10: Load and Test Saved Models"
      ]
    },
    {
      "cell_type": "markdown",
      "metadata": {
        "id": "TtihXERhtlgx"
      },
      "source": [
        "This step demonstrates how to load the saved models and test them to ensure they were saved correctly and still perform as expected. The models are loaded from disk, set to evaluation mode, and tested on the test dataset to check their accuracy."
      ]
    },
    {
      "cell_type": "code",
      "execution_count": 10,
      "metadata": {
        "colab": {
          "base_uri": "https://localhost:8080/"
        },
        "id": "8-oBTAeWtqQm",
        "outputId": "72e19629-1540-4918-e1de-05c18530d81e"
      },
      "outputs": [
        {
          "output_type": "stream",
          "name": "stderr",
          "text": [
            "/usr/lib/python3.10/multiprocessing/popen_fork.py:66: RuntimeWarning: os.fork() was called. os.fork() is incompatible with multithreaded code, and JAX is multithreaded, so this will likely lead to a deadlock.\n",
            "  self.pid = os.fork()\n",
            "/usr/lib/python3.10/multiprocessing/popen_fork.py:66: RuntimeWarning: os.fork() was called. os.fork() is incompatible with multithreaded code, and JAX is multithreaded, so this will likely lead to a deadlock.\n",
            "  self.pid = os.fork()\n"
          ]
        },
        {
          "output_type": "stream",
          "name": "stdout",
          "text": [
            "Loaded MLP Accuracy: 82.91%\n"
          ]
        }
      ],
      "source": [
        "def load_model(model_class, model_path, input_features, hidden_units, output_features):\n",
        "    model = model_class(input_features, hidden_units, output_features).to(device)\n",
        "    model.load_state_dict(torch.load(model_path))\n",
        "    model.eval()\n",
        "    return model\n",
        "\n",
        "# Load the MLP model\n",
        "loaded_model_1 = load_model(MLP, \"models/mlp_model.pth\", 224*224*3, 64, len(class_names))\n",
        "\n",
        "# Test the loaded model\n",
        "def test_model(model, dataloader):\n",
        "    model.eval()\n",
        "    correct = 0\n",
        "    total = 0\n",
        "    with torch.no_grad():\n",
        "        for images, labels in dataloader:\n",
        "            images, labels = images.to(device), labels.to(device)\n",
        "            outputs = model(images)\n",
        "            _, predicted = torch.max(outputs.data, 1)\n",
        "            total += labels.size(0)\n",
        "            correct += (predicted == labels).sum().item()\n",
        "    return 100 * correct / total\n",
        "\n",
        "print(f\"Loaded MLP Accuracy: {test_model(loaded_model_1, test_dataloader):.2f}%\")"
      ]
    },
    {
      "cell_type": "markdown",
      "metadata": {
        "id": "YBKoxYcmttfC"
      },
      "source": [
        "# Step 11: Visualize the Model Architecture"
      ]
    },
    {
      "cell_type": "markdown",
      "metadata": {
        "id": "YlAHGBtRtv--"
      },
      "source": [
        "This step visualizes the architecture of the MLP model using the torchviz library. It creates a graphical representation of the model's structure, showing the layers and connections. The visualization is saved as a PNG file"
      ]
    },
    {
      "cell_type": "code",
      "execution_count": 12,
      "metadata": {
        "colab": {
          "base_uri": "https://localhost:8080/",
          "height": 608
        },
        "id": "lh58dqhntxU_",
        "outputId": "d16a321b-93ee-47b7-e7b9-ce6e891b1616"
      },
      "outputs": [
        {
          "output_type": "stream",
          "name": "stdout",
          "text": [
            "Collecting torchviz\n",
            "  Downloading torchviz-0.0.2.tar.gz (4.9 kB)\n",
            "  Preparing metadata (setup.py) ... \u001b[?25l\u001b[?25hdone\n",
            "Requirement already satisfied: torch in /usr/local/lib/python3.10/dist-packages (from torchviz) (2.3.1+cu121)\n",
            "Requirement already satisfied: graphviz in /usr/local/lib/python3.10/dist-packages (from torchviz) (0.20.3)\n",
            "Requirement already satisfied: filelock in /usr/local/lib/python3.10/dist-packages (from torch->torchviz) (3.15.4)\n",
            "Requirement already satisfied: typing-extensions>=4.8.0 in /usr/local/lib/python3.10/dist-packages (from torch->torchviz) (4.12.2)\n",
            "Requirement already satisfied: sympy in /usr/local/lib/python3.10/dist-packages (from torch->torchviz) (1.13.1)\n",
            "Requirement already satisfied: networkx in /usr/local/lib/python3.10/dist-packages (from torch->torchviz) (3.3)\n",
            "Requirement already satisfied: jinja2 in /usr/local/lib/python3.10/dist-packages (from torch->torchviz) (3.1.4)\n",
            "Requirement already satisfied: fsspec in /usr/local/lib/python3.10/dist-packages (from torch->torchviz) (2024.6.1)\n",
            "Requirement already satisfied: nvidia-cuda-nvrtc-cu12==12.1.105 in /usr/local/lib/python3.10/dist-packages (from torch->torchviz) (12.1.105)\n",
            "Requirement already satisfied: nvidia-cuda-runtime-cu12==12.1.105 in /usr/local/lib/python3.10/dist-packages (from torch->torchviz) (12.1.105)\n",
            "Requirement already satisfied: nvidia-cuda-cupti-cu12==12.1.105 in /usr/local/lib/python3.10/dist-packages (from torch->torchviz) (12.1.105)\n",
            "Requirement already satisfied: nvidia-cudnn-cu12==8.9.2.26 in /usr/local/lib/python3.10/dist-packages (from torch->torchviz) (8.9.2.26)\n",
            "Requirement already satisfied: nvidia-cublas-cu12==12.1.3.1 in /usr/local/lib/python3.10/dist-packages (from torch->torchviz) (12.1.3.1)\n",
            "Requirement already satisfied: nvidia-cufft-cu12==11.0.2.54 in /usr/local/lib/python3.10/dist-packages (from torch->torchviz) (11.0.2.54)\n",
            "Requirement already satisfied: nvidia-curand-cu12==10.3.2.106 in /usr/local/lib/python3.10/dist-packages (from torch->torchviz) (10.3.2.106)\n",
            "Requirement already satisfied: nvidia-cusolver-cu12==11.4.5.107 in /usr/local/lib/python3.10/dist-packages (from torch->torchviz) (11.4.5.107)\n",
            "Requirement already satisfied: nvidia-cusparse-cu12==12.1.0.106 in /usr/local/lib/python3.10/dist-packages (from torch->torchviz) (12.1.0.106)\n",
            "Requirement already satisfied: nvidia-nccl-cu12==2.20.5 in /usr/local/lib/python3.10/dist-packages (from torch->torchviz) (2.20.5)\n",
            "Requirement already satisfied: nvidia-nvtx-cu12==12.1.105 in /usr/local/lib/python3.10/dist-packages (from torch->torchviz) (12.1.105)\n",
            "Requirement already satisfied: triton==2.3.1 in /usr/local/lib/python3.10/dist-packages (from torch->torchviz) (2.3.1)\n",
            "Requirement already satisfied: nvidia-nvjitlink-cu12 in /usr/local/lib/python3.10/dist-packages (from nvidia-cusolver-cu12==11.4.5.107->torch->torchviz) (12.6.20)\n",
            "Requirement already satisfied: MarkupSafe>=2.0 in /usr/local/lib/python3.10/dist-packages (from jinja2->torch->torchviz) (2.1.5)\n",
            "Requirement already satisfied: mpmath<1.4,>=1.1.0 in /usr/local/lib/python3.10/dist-packages (from sympy->torch->torchviz) (1.3.0)\n",
            "Building wheels for collected packages: torchviz\n",
            "  Building wheel for torchviz (setup.py) ... \u001b[?25l\u001b[?25hdone\n",
            "  Created wheel for torchviz: filename=torchviz-0.0.2-py3-none-any.whl size=4132 sha256=bf76df72eb9c2b03ac5b19c400aaeaf70e8e4c26125727212ec713d8d275004c\n",
            "  Stored in directory: /root/.cache/pip/wheels/4c/97/88/a02973217949e0db0c9f4346d154085f4725f99c4f15a87094\n",
            "Successfully built torchviz\n",
            "Installing collected packages: torchviz\n",
            "Successfully installed torchviz-0.0.2\n"
          ]
        },
        {
          "output_type": "execute_result",
          "data": {
            "text/plain": [
              "'mlp_architecture.png'"
            ],
            "application/vnd.google.colaboratory.intrinsic+json": {
              "type": "string"
            }
          },
          "metadata": {},
          "execution_count": 12
        }
      ],
      "source": [
        "# Install torchviz\n",
        "!pip install torchviz\n",
        "\n",
        "from torchviz import make_dot\n",
        "\n",
        "# Visualize MLP Model\n",
        "x = torch.randn(1, 3, 224, 224).to(device)  # Example input\n",
        "y = loaded_model_1(x)\n",
        "dot = make_dot(y, params=dict(loaded_model_1.named_parameters()))\n",
        "dot.render(\"mlp_architecture\", format=\"png\")"
      ]
    },
    {
      "cell_type": "markdown",
      "source": [
        "![mlp_basic_transfer_architecture.png](data:image/png;base64,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)"
      ],
      "metadata": {
        "id": "wRW_oKAlIZGp"
      }
    },
    {
      "cell_type": "code",
      "source": [],
      "metadata": {
        "id": "tmT5UmMQIhyB"
      },
      "execution_count": null,
      "outputs": []
    }
  ],
  "metadata": {
    "accelerator": "GPU",
    "colab": {
      "gpuType": "T4",
      "provenance": []
    },
    "kernelspec": {
      "display_name": "Python 3",
      "name": "python3"
    },
    "language_info": {
      "name": "python"
    }
  },
  "nbformat": 4,
  "nbformat_minor": 0
}